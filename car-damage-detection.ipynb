{
 "cells": [
  {
   "cell_type": "code",
   "execution_count": 1,
   "id": "6b3d33a0",
   "metadata": {},
   "outputs": [],
   "source": [
    "import os\n",
    "from torchvision import datasets, transforms\n",
    "from torch.utils.data import DataLoader\n",
    "import torch\n",
    "import torch.nn as nn\n",
    "import torch.optim as optim\n",
    "import torch.nn.functional as F\n",
    "import time\n",
    "import torchvision.models as models\n",
    "from matplotlib import pyplot as plt"
   ]
  },
  {
   "cell_type": "code",
   "execution_count": 2,
   "id": "2b0a0e08",
   "metadata": {},
   "outputs": [
    {
     "data": {
      "text/plain": [
       "device(type='cpu')"
      ]
     },
     "execution_count": 2,
     "metadata": {},
     "output_type": "execute_result"
    }
   ],
   "source": [
    "device = torch.device(\"cuda\" if torch.cuda.is_available() else \"cpu\")\n",
    "device"
   ]
  },
  {
   "cell_type": "code",
   "execution_count": 23,
   "id": "318459a9",
   "metadata": {},
   "outputs": [],
   "source": [
    "transform = transforms.Compose([\n",
    "    transforms.RandomHorizontalFlip(),\n",
    "    transforms.RandomRotation(10),\n",
    "    transforms.ColorJitter(brightness=0.2, contrast=0.2),\n",
    "    transforms.Resize((224, 224)),\n",
    "    transforms.ToTensor(),\n",
    "    transforms.Normalize(mean=[0.485, 0.456, 0.406],  # ImageNet mean\n",
    "                         std=[0.229, 0.224, 0.225])   # ImageNet std\n",
    "])"
   ]
  },
  {
   "cell_type": "code",
   "execution_count": 24,
   "id": "7405c15e",
   "metadata": {},
   "outputs": [
    {
     "data": {
      "text/plain": [
       "2300"
      ]
     },
     "execution_count": 24,
     "metadata": {},
     "output_type": "execute_result"
    }
   ],
   "source": [
    "dataset_path = \"./dataset\"\n",
    "dataset = datasets.ImageFolder(dataset_path, transform= transform)\n",
    "len(dataset)  # Total number of images in the dataset"
   ]
  },
  {
   "cell_type": "code",
   "execution_count": 25,
   "id": "933b4ddc",
   "metadata": {},
   "outputs": [
    {
     "data": {
      "text/plain": [
       "['F_Breakage', 'F_Crushed', 'F_Normal', 'R_Breakage', 'R_Crushed', 'R_Normal']"
      ]
     },
     "execution_count": 25,
     "metadata": {},
     "output_type": "execute_result"
    }
   ],
   "source": [
    "class_names = dataset.classes\n",
    "class_names  # List of class names in the dataset"
   ]
  },
  {
   "cell_type": "code",
   "execution_count": 6,
   "id": "94b7b1e2",
   "metadata": {},
   "outputs": [
    {
     "data": {
      "text/plain": [
       "6"
      ]
     },
     "execution_count": 6,
     "metadata": {},
     "output_type": "execute_result"
    }
   ],
   "source": [
    "num_classes = len(dataset.classes)\n",
    "num_classes"
   ]
  },
  {
   "cell_type": "code",
   "execution_count": 26,
   "id": "c20c03c0",
   "metadata": {},
   "outputs": [
    {
     "data": {
      "text/plain": [
       "(1725, 575)"
      ]
     },
     "execution_count": 26,
     "metadata": {},
     "output_type": "execute_result"
    }
   ],
   "source": [
    "train_size = int(len(dataset) * 0.75)\n",
    "val_size = len(dataset) - train_size\n",
    "\n",
    "train_size, val_size"
   ]
  },
  {
   "cell_type": "code",
   "execution_count": 27,
   "id": "4c30eab1",
   "metadata": {},
   "outputs": [],
   "source": [
    "from torch.utils.data import random_split\n",
    "\n",
    "train_dataset, val_dataset = random_split(dataset, [train_size, val_size])"
   ]
  },
  {
   "cell_type": "code",
   "execution_count": 28,
   "id": "bf8e00bb",
   "metadata": {},
   "outputs": [],
   "source": [
    "train_loader = DataLoader(train_dataset, batch_size=32, shuffle=True)\n",
    "val_loader = DataLoader(val_dataset, batch_size=32, shuffle=False)"
   ]
  },
  {
   "cell_type": "code",
   "execution_count": 29,
   "id": "2b70cdbf",
   "metadata": {},
   "outputs": [
    {
     "name": "stdout",
     "output_type": "stream",
     "text": [
      "torch.Size([32, 3, 224, 224]) torch.Size([32])\n"
     ]
    }
   ],
   "source": [
    "for images, labels in train_loader:\n",
    "    images, labels = images.to(device), labels.to(device)\n",
    "    print(images.shape, labels.shape)\n",
    "    break  # Just to check the first batch"
   ]
  },
  {
   "cell_type": "markdown",
   "id": "ec5e5618",
   "metadata": {},
   "source": [
    "### Model 1: CNN"
   ]
  },
  {
   "cell_type": "code",
   "execution_count": 13,
   "id": "84e9f714",
   "metadata": {},
   "outputs": [],
   "source": [
    "# class CarClassifierCNN(nn.Module):\n",
    "#     def __init__(self, num_classes):\n",
    "#         super().__init__()\n",
    "#         self.network = nn.Sequential(\n",
    "#             # 1st Layer\n",
    "#             nn.Conv2d(in_channels=3, out_channels=16, kernel_size=3, stride=1, padding=1), #output (16,224,224)\n",
    "#             nn.ReLU(),\n",
    "#             nn.MaxPool2d(kernel_size=2, stride=2, padding=0), #output (16,112,112)\n",
    "\n",
    "#             # 2nd Layer\n",
    "#             nn.Conv2d(in_channels=16, out_channels=32, kernel_size=3, stride=1, padding=1), #output (32,112,112)\n",
    "#             nn.ReLU(),\n",
    "#             nn.MaxPool2d(kernel_size=2, stride=2, padding=0), #output (32,56,56)\n",
    "\n",
    "#             # 3rd Layer\n",
    "#             nn.Conv2d(in_channels=32, out_channels=64, kernel_size=3, stride=1, padding=1), #output (32,56,56)\n",
    "#             nn.ReLU(),\n",
    "#             nn.MaxPool2d(kernel_size=2, stride=2, padding=0), #output (64,28,28)\n",
    "\n",
    "#             nn.Flatten(),  # Flatten the output for the fully connected layer\n",
    "#             nn.Linear(64 * 28 * 28, 512),  # Fully connected\n",
    "#             nn.Relu(),\n",
    "#             nn.Linear(512, num_classes)  # Output layer for classification\n",
    "\n",
    "#         )\n",
    "#     def forward(self, x):\n",
    "#         x = self.network(x)\n",
    "#         return x"
   ]
  },
  {
   "cell_type": "code",
   "execution_count": 14,
   "id": "13d54492",
   "metadata": {},
   "outputs": [],
   "source": [
    "class CarClassifierCNN(nn.Module):\n",
    "    def __init__(self, num_classes):\n",
    "        super().__init__()\n",
    "        self.network = nn.Sequential(\n",
    "            nn.Conv2d(in_channels=3, out_channels=16, kernel_size=3, stride=1, padding=1), # (16, 224, 224) \n",
    "            nn.ReLU(),\n",
    "            nn.MaxPool2d(kernel_size=2, stride=2, padding=0), # (16, 112, 112),\n",
    "            nn.Conv2d(in_channels=16, out_channels=32, kernel_size=3, stride=1, padding=1), \n",
    "            nn.ReLU(),\n",
    "            nn.MaxPool2d(kernel_size=2, stride=2, padding=0), # (32, 56, 56)           \n",
    "            nn.Conv2d(in_channels=32, out_channels=64, kernel_size=3, stride=1, padding=1), \n",
    "            nn.ReLU(),\n",
    "            nn.MaxPool2d(kernel_size=2, stride=2, padding=0), # (64, 28, 28),\n",
    "            nn.Flatten(),\n",
    "            nn.Linear(64*28*28, 512),\n",
    "            nn.ReLU(),\n",
    "            nn.Linear(512, num_classes)\n",
    "        )\n",
    "        \n",
    "    def forward(self, x):\n",
    "        x = self.network(x)\n",
    "        return x"
   ]
  },
  {
   "cell_type": "code",
   "execution_count": 15,
   "id": "b58db0fb",
   "metadata": {},
   "outputs": [],
   "source": [
    "model = CarClassifierCNN(num_classes=num_classes).to(device)\n",
    "criterion = nn.CrossEntropyLoss()\n",
    "optimizer = optim.Adam(model.parameters(), lr=0.001)"
   ]
  },
  {
   "cell_type": "code",
   "execution_count": 16,
   "id": "4b93178e",
   "metadata": {},
   "outputs": [
    {
     "data": {
      "text/plain": [
       "32"
      ]
     },
     "execution_count": 16,
     "metadata": {},
     "output_type": "execute_result"
    }
   ],
   "source": [
    "images.size(0) # batch size"
   ]
  },
  {
   "cell_type": "code",
   "execution_count": 11,
   "id": "54f05cc6",
   "metadata": {},
   "outputs": [],
   "source": [
    "def train_model(model, criterion, optimizer, epochs=10):\n",
    "    start = time.time()\n",
    "    \n",
    "    for epoch in range(epochs):\n",
    "        model.train()\n",
    "        running_loss = 0.0\n",
    "        for batch_num , (images, labels) in enumerate(train_loader):\n",
    "            images, labels = images.to(device), labels.to(device)\n",
    "            \n",
    "            #Zero the parameters gradients\n",
    "            optimizer.zero_grad()\n",
    "\n",
    "            #Forward pass\n",
    "            outputs = model(images)\n",
    "            loss = criterion(outputs, labels)\n",
    "\n",
    "            #Backward pass and optimization\n",
    "            loss.backward()\n",
    "            optimizer.step()\n",
    "\n",
    "            if (batch_num+1) % 10 == 0:\n",
    "                print(f\"Batch: {batch_num+1}, Epoch: {epoch+1}, Loss: {loss.item():0.2f}\")\n",
    "\n",
    "            running_loss += loss.item() * images.size(0)\n",
    "\n",
    "        epoch_loss = running_loss / len(train_loader.dataset)\n",
    "        print(f\"Epoch [{epoch+1}/{epochs}], Avg_Loss: {epoch_loss:.4f}\")\n",
    "\n",
    "        # Validation\n",
    "        model.eval()\n",
    "        correct = 0\n",
    "        total = 0\n",
    "        all_labels = []\n",
    "        all_predictions = []\n",
    "        \n",
    "        with torch.no_grad():\n",
    "            for images, labels in val_loader:\n",
    "                images, labels = images.to(device), labels.to(device)\n",
    "                outputs = model(images)\n",
    "                _, predicted = torch.max(outputs.data,1)\n",
    "                total += labels.size(0)\n",
    "                correct += (predicted == labels).sum().item()\n",
    "                all_labels.extend(labels.cpu().numpy())\n",
    "                all_predictions.extend(predicted.cpu().numpy())\n",
    "                \n",
    "            print(f\"*** Validation Accuracy: {100 * correct / total:.2f}% ***\")\n",
    "            \n",
    "    end = time.time()\n",
    "    print(f\"Execution time: {end - start} seconds\")     \n",
    "    \n",
    "    return all_labels, all_predictions"
   ]
  },
  {
   "cell_type": "code",
   "execution_count": null,
   "id": "06ba0c0e",
   "metadata": {},
   "outputs": [],
   "source": [
    "train_model(model, criterion, optimizer, epochs=5)"
   ]
  },
  {
   "cell_type": "markdown",
   "id": "087bb053",
   "metadata": {},
   "source": [
    "### Model 2: CNN with Regularization"
   ]
  },
  {
   "cell_type": "code",
   "execution_count": null,
   "id": "1d70f568",
   "metadata": {},
   "outputs": [],
   "source": [
    "class CarClassifierCNNWithRegularization(nn.Module):\n",
    "    def __init__(self, num_classes):\n",
    "        super().__init__()\n",
    "        self.network = nn.Sequential(\n",
    "            nn.Conv2d(in_channels=3, out_channels=16, kernel_size=3, stride=1, padding=1), # (16, 224, 224) \n",
    "            nn.BatchNorm2d(16),\n",
    "            nn.ReLU(),\n",
    "            nn.MaxPool2d(kernel_size=2, stride=2, padding=0), # (16, 112, 112),\n",
    "            nn.Conv2d(in_channels=16, out_channels=32, kernel_size=3, stride=1, padding=1), \n",
    "            nn.BatchNorm2d(32),\n",
    "            nn.ReLU(),\n",
    "            nn.MaxPool2d(kernel_size=2, stride=2, padding=0), # (32, 56, 56)           \n",
    "            nn.Conv2d(in_channels=32, out_channels=64, kernel_size=3, stride=1, padding=1), \n",
    "            nn.BatchNorm2d(64),\n",
    "            nn.ReLU(),\n",
    "            nn.MaxPool2d(kernel_size=2, stride=2, padding=0), # (64, 28, 28),\n",
    "            nn.Flatten(),\n",
    "            nn.Linear(64*28*28, 512),\n",
    "            nn.ReLU(),\n",
    "            nn.Linear(512, num_classes)\n",
    "        )\n",
    "        \n",
    "    def forward(self, x):\n",
    "        x = self.network(x)\n",
    "        return x"
   ]
  },
  {
   "cell_type": "code",
   "execution_count": null,
   "id": "1503fe85",
   "metadata": {},
   "outputs": [
    {
     "name": "stdout",
     "output_type": "stream",
     "text": [
      "Batch: 10, Epoch: 1, Loss: 12.46\n",
      "Batch: 20, Epoch: 1, Loss: 3.88\n",
      "Batch: 30, Epoch: 1, Loss: 1.88\n",
      "Batch: 40, Epoch: 1, Loss: 1.67\n",
      "Batch: 50, Epoch: 1, Loss: 1.48\n",
      "Epoch [1/5], Avg_Loss: 8.1285\n",
      "*** Validation Accuracy: 45.91% ***\n",
      "Batch: 10, Epoch: 2, Loss: 0.96\n",
      "Batch: 20, Epoch: 2, Loss: 1.67\n",
      "Batch: 30, Epoch: 2, Loss: 1.14\n",
      "Batch: 40, Epoch: 2, Loss: 1.30\n",
      "Batch: 50, Epoch: 2, Loss: 0.93\n",
      "Epoch [2/5], Avg_Loss: 1.2756\n",
      "*** Validation Accuracy: 51.30% ***\n",
      "Batch: 10, Epoch: 3, Loss: 0.90\n",
      "Batch: 20, Epoch: 3, Loss: 1.34\n",
      "Batch: 30, Epoch: 3, Loss: 0.98\n",
      "Batch: 40, Epoch: 3, Loss: 1.03\n",
      "Batch: 50, Epoch: 3, Loss: 1.20\n",
      "Epoch [3/5], Avg_Loss: 1.1578\n",
      "*** Validation Accuracy: 47.65% ***\n",
      "Batch: 10, Epoch: 4, Loss: 1.10\n",
      "Batch: 20, Epoch: 4, Loss: 1.43\n",
      "Batch: 30, Epoch: 4, Loss: 1.03\n",
      "Batch: 40, Epoch: 4, Loss: 1.40\n",
      "Batch: 50, Epoch: 4, Loss: 1.17\n",
      "Epoch [4/5], Avg_Loss: 1.0636\n",
      "*** Validation Accuracy: 51.48% ***\n",
      "Batch: 10, Epoch: 5, Loss: 1.41\n",
      "Batch: 20, Epoch: 5, Loss: 0.62\n",
      "Batch: 30, Epoch: 5, Loss: 0.77\n",
      "Batch: 40, Epoch: 5, Loss: 0.90\n",
      "Batch: 50, Epoch: 5, Loss: 1.16\n",
      "Epoch [5/5], Avg_Loss: 0.9486\n",
      "*** Validation Accuracy: 51.65% ***\n",
      "Execution time: 1055.1941709518433 seconds\n"
     ]
    }
   ],
   "source": [
    "model = CarClassifierCNNWithRegularization(num_classes=num_classes).to(device)\n",
    "criterion = nn.CrossEntropyLoss()\n",
    "optimizer = optim.Adam(model.parameters(), lr=0.001, weight_decay=1e-4)\n",
    "\n",
    "all_labels, all_predictions = train_model(model, criterion, optimizer,  epochs=5)"
   ]
  },
  {
   "cell_type": "markdown",
   "id": "b626fc32",
   "metadata": {},
   "source": [
    "### Model 3: Transfer Learning with EfficientNet"
   ]
  },
  {
   "cell_type": "code",
   "execution_count": 12,
   "id": "28f4bf4f",
   "metadata": {},
   "outputs": [
    {
     "data": {
      "text/plain": [
       "1280"
      ]
     },
     "execution_count": 12,
     "metadata": {},
     "output_type": "execute_result"
    }
   ],
   "source": [
    "model = models.efficientnet_b0(weights='DEFAULT')\n",
    "model.classifier[1].in_features"
   ]
  },
  {
   "cell_type": "code",
   "execution_count": 13,
   "id": "35bba925",
   "metadata": {},
   "outputs": [],
   "source": [
    "class CarClassifierEfficientNet(nn.Module):\n",
    "    def __init__(self, num_classes):\n",
    "        super().__init__()\n",
    "        self.model = models.efficientnet_b0(weights='DEFAULT')\n",
    "        \n",
    "        for param in self.model.parameters():\n",
    "            param.requires_grad = False\n",
    "        \n",
    "        in_features = self.model.classifier[1].in_features\n",
    "        \n",
    "        self.model.classifier = nn.Sequential(\n",
    "            nn.Dropout(0.5),\n",
    "            nn.Linear(in_features, num_classes)\n",
    "        )\n",
    "        \n",
    "    def forward(self, x):\n",
    "        x = self.model(x)\n",
    "        return x  "
   ]
  },
  {
   "cell_type": "code",
   "execution_count": 14,
   "id": "2721a0f4",
   "metadata": {},
   "outputs": [
    {
     "name": "stdout",
     "output_type": "stream",
     "text": [
      "Batch: 10, Epoch: 1, Loss: 1.68\n",
      "Batch: 20, Epoch: 1, Loss: 1.53\n",
      "Batch: 30, Epoch: 1, Loss: 1.39\n",
      "Batch: 40, Epoch: 1, Loss: 1.39\n",
      "Batch: 50, Epoch: 1, Loss: 1.41\n",
      "Epoch [1/10], Avg_Loss: 1.4747\n",
      "*** Validation Accuracy: 55.48% ***\n",
      "Batch: 10, Epoch: 2, Loss: 1.23\n",
      "Batch: 20, Epoch: 2, Loss: 1.10\n",
      "Batch: 30, Epoch: 2, Loss: 1.08\n",
      "Batch: 40, Epoch: 2, Loss: 1.12\n",
      "Batch: 50, Epoch: 2, Loss: 1.09\n",
      "Epoch [2/10], Avg_Loss: 1.1426\n",
      "*** Validation Accuracy: 61.22% ***\n",
      "Batch: 10, Epoch: 3, Loss: 1.02\n",
      "Batch: 20, Epoch: 3, Loss: 0.80\n",
      "Batch: 30, Epoch: 3, Loss: 0.95\n",
      "Batch: 40, Epoch: 3, Loss: 1.00\n",
      "Batch: 50, Epoch: 3, Loss: 0.95\n",
      "Epoch [3/10], Avg_Loss: 1.0404\n",
      "*** Validation Accuracy: 61.04% ***\n",
      "Batch: 10, Epoch: 4, Loss: 1.04\n",
      "Batch: 20, Epoch: 4, Loss: 1.07\n",
      "Batch: 30, Epoch: 4, Loss: 0.96\n",
      "Batch: 40, Epoch: 4, Loss: 1.13\n",
      "Batch: 50, Epoch: 4, Loss: 0.87\n",
      "Epoch [4/10], Avg_Loss: 0.9879\n",
      "*** Validation Accuracy: 62.96% ***\n",
      "Batch: 10, Epoch: 5, Loss: 0.98\n",
      "Batch: 20, Epoch: 5, Loss: 1.02\n",
      "Batch: 30, Epoch: 5, Loss: 0.78\n",
      "Batch: 40, Epoch: 5, Loss: 0.93\n",
      "Batch: 50, Epoch: 5, Loss: 0.91\n",
      "Epoch [5/10], Avg_Loss: 0.9407\n",
      "*** Validation Accuracy: 61.39% ***\n",
      "Batch: 10, Epoch: 6, Loss: 1.03\n",
      "Batch: 20, Epoch: 6, Loss: 1.06\n",
      "Batch: 30, Epoch: 6, Loss: 0.78\n",
      "Batch: 40, Epoch: 6, Loss: 0.82\n",
      "Batch: 50, Epoch: 6, Loss: 0.77\n",
      "Epoch [6/10], Avg_Loss: 0.9010\n",
      "*** Validation Accuracy: 62.96% ***\n",
      "Batch: 10, Epoch: 7, Loss: 0.95\n",
      "Batch: 20, Epoch: 7, Loss: 0.93\n",
      "Batch: 30, Epoch: 7, Loss: 0.94\n",
      "Batch: 40, Epoch: 7, Loss: 0.71\n",
      "Batch: 50, Epoch: 7, Loss: 0.93\n",
      "Epoch [7/10], Avg_Loss: 0.8710\n",
      "*** Validation Accuracy: 66.09% ***\n",
      "Batch: 10, Epoch: 8, Loss: 0.78\n",
      "Batch: 20, Epoch: 8, Loss: 0.79\n",
      "Batch: 30, Epoch: 8, Loss: 0.69\n",
      "Batch: 40, Epoch: 8, Loss: 0.76\n",
      "Batch: 50, Epoch: 8, Loss: 0.66\n",
      "Epoch [8/10], Avg_Loss: 0.8617\n",
      "*** Validation Accuracy: 65.74% ***\n",
      "Batch: 10, Epoch: 9, Loss: 0.78\n",
      "Batch: 20, Epoch: 9, Loss: 0.61\n",
      "Batch: 30, Epoch: 9, Loss: 1.14\n",
      "Batch: 40, Epoch: 9, Loss: 0.89\n",
      "Batch: 50, Epoch: 9, Loss: 0.90\n",
      "Epoch [9/10], Avg_Loss: 0.8330\n",
      "*** Validation Accuracy: 67.83% ***\n",
      "Batch: 10, Epoch: 10, Loss: 0.74\n",
      "Batch: 20, Epoch: 10, Loss: 1.00\n",
      "Batch: 30, Epoch: 10, Loss: 0.87\n",
      "Batch: 40, Epoch: 10, Loss: 1.25\n",
      "Batch: 50, Epoch: 10, Loss: 0.72\n",
      "Epoch [10/10], Avg_Loss: 0.8501\n",
      "*** Validation Accuracy: 67.48% ***\n",
      "Execution time: 2539.1923468112946 seconds\n"
     ]
    }
   ],
   "source": [
    "model = CarClassifierEfficientNet(num_classes=num_classes).to(device)\n",
    "criterion = nn.CrossEntropyLoss()\n",
    "optimizer = optim.Adam(filter(lambda p: p.requires_grad, model.parameters()), lr=0.001)\n",
    "\n",
    "all_labels, all_predictions = train_model(model, criterion, optimizer, epochs=10)"
   ]
  },
  {
   "cell_type": "markdown",
   "id": "028d6743",
   "metadata": {},
   "source": [
    "### Model 4: Transfer Learning with ResNet"
   ]
  },
  {
   "cell_type": "code",
   "execution_count": 15,
   "id": "f148fe50",
   "metadata": {},
   "outputs": [],
   "source": [
    "# Load the pre-trained ResNet model\n",
    "class CarClassifierResNet(nn.Module):\n",
    "    def __init__(self, num_classes, dropout_rate=0.5):\n",
    "        super().__init__()\n",
    "        self.model = models.resnet50(weights='DEFAULT')\n",
    "        # Freeze all layers except the final fully connected layer\n",
    "        for param in self.model.parameters():\n",
    "            param.requires_grad = False\n",
    "            \n",
    "        # Unfreeze layer4 and fc layers\n",
    "        for param in self.model.layer4.parameters():\n",
    "            param.requires_grad = True            \n",
    "            \n",
    "        # Replace the final fully connected layer\n",
    "        self.model.fc = nn.Sequential(\n",
    "            nn.Dropout(dropout_rate),\n",
    "            nn.Linear(self.model.fc.in_features, num_classes)\n",
    "        )\n",
    "\n",
    "    def forward(self, x):\n",
    "        x = self.model(x)\n",
    "        return x"
   ]
  },
  {
   "cell_type": "code",
   "execution_count": 17,
   "id": "36527b4e",
   "metadata": {},
   "outputs": [
    {
     "name": "stdout",
     "output_type": "stream",
     "text": [
      "Downloading: \"https://download.pytorch.org/models/resnet50-11ad3fa6.pth\" to C:\\Users\\mustafa.mohammed/.cache\\torch\\hub\\checkpoints\\resnet50-11ad3fa6.pth\n"
     ]
    },
    {
     "name": "stderr",
     "output_type": "stream",
     "text": [
      "100%|██████████| 97.8M/97.8M [00:24<00:00, 4.18MB/s]\n"
     ]
    },
    {
     "name": "stdout",
     "output_type": "stream",
     "text": [
      "Batch: 10, Epoch: 1, Loss: 1.29\n",
      "Batch: 20, Epoch: 1, Loss: 0.70\n",
      "Batch: 30, Epoch: 1, Loss: 0.95\n",
      "Batch: 40, Epoch: 1, Loss: 0.54\n",
      "Batch: 50, Epoch: 1, Loss: 0.84\n",
      "Epoch [1/5], Avg_Loss: 0.8872\n",
      "*** Validation Accuracy: 70.43% ***\n",
      "Batch: 10, Epoch: 2, Loss: 0.66\n",
      "Batch: 20, Epoch: 2, Loss: 0.48\n",
      "Batch: 30, Epoch: 2, Loss: 0.43\n",
      "Batch: 40, Epoch: 2, Loss: 0.80\n",
      "Batch: 50, Epoch: 2, Loss: 0.70\n",
      "Epoch [2/5], Avg_Loss: 0.5054\n",
      "*** Validation Accuracy: 72.70% ***\n",
      "Batch: 10, Epoch: 3, Loss: 0.29\n",
      "Batch: 20, Epoch: 3, Loss: 0.24\n",
      "Batch: 30, Epoch: 3, Loss: 0.30\n",
      "Batch: 40, Epoch: 3, Loss: 0.38\n",
      "Batch: 50, Epoch: 3, Loss: 0.37\n",
      "Epoch [3/5], Avg_Loss: 0.3557\n",
      "*** Validation Accuracy: 76.87% ***\n",
      "Batch: 10, Epoch: 4, Loss: 0.54\n",
      "Batch: 20, Epoch: 4, Loss: 0.13\n",
      "Batch: 30, Epoch: 4, Loss: 0.25\n",
      "Batch: 40, Epoch: 4, Loss: 0.54\n",
      "Batch: 50, Epoch: 4, Loss: 0.27\n",
      "Epoch [4/5], Avg_Loss: 0.2940\n",
      "*** Validation Accuracy: 76.70% ***\n",
      "Batch: 10, Epoch: 5, Loss: 0.19\n",
      "Batch: 20, Epoch: 5, Loss: 0.27\n",
      "Batch: 30, Epoch: 5, Loss: 0.21\n",
      "Batch: 40, Epoch: 5, Loss: 0.35\n",
      "Batch: 50, Epoch: 5, Loss: 0.53\n",
      "Epoch [5/5], Avg_Loss: 0.2065\n",
      "*** Validation Accuracy: 77.91% ***\n",
      "Execution time: 1603.8283660411835 seconds\n"
     ]
    }
   ],
   "source": [
    "model = CarClassifierResNet(num_classes=num_classes).to(device)\n",
    "criterion = nn.CrossEntropyLoss()\n",
    "optimizer = optim.Adam(filter(lambda p: p.requires_grad, model.parameters()), lr=0.001)\n",
    "\n",
    "labels, predictions = train_model(model, criterion, optimizer, epochs=5)"
   ]
  },
  {
   "cell_type": "markdown",
   "id": "7a5a0db0",
   "metadata": {},
   "source": [
    "#### I ran hyperparameter tunning in another notebook and figured that the best parameters for resnet models are (1) Dropout rate = 0.2 (2) Learning Rate = 0.005\n",
    "\n",
    "So now let's train the model once again with these best parameters"
   ]
  },
  {
   "cell_type": "code",
   "execution_count": 32,
   "id": "cf68949b",
   "metadata": {},
   "outputs": [
    {
     "name": "stdout",
     "output_type": "stream",
     "text": [
      "Batch: 10, Epoch: 1, Loss: 0.96\n",
      "Batch: 20, Epoch: 1, Loss: 0.76\n",
      "Batch: 30, Epoch: 1, Loss: 0.93\n",
      "Batch: 40, Epoch: 1, Loss: 0.59\n",
      "Batch: 50, Epoch: 1, Loss: 0.92\n",
      "Epoch [1/5], Avg_Loss: 0.9004\n",
      "*** Validation Accuracy: 65.57% ***\n",
      "Batch: 10, Epoch: 2, Loss: 0.55\n",
      "Batch: 20, Epoch: 2, Loss: 0.53\n",
      "Batch: 30, Epoch: 2, Loss: 0.63\n",
      "Batch: 40, Epoch: 2, Loss: 0.29\n",
      "Batch: 50, Epoch: 2, Loss: 0.23\n",
      "Epoch [2/5], Avg_Loss: 0.5145\n",
      "*** Validation Accuracy: 74.43% ***\n",
      "Batch: 10, Epoch: 3, Loss: 0.55\n",
      "Batch: 20, Epoch: 3, Loss: 0.36\n",
      "Batch: 30, Epoch: 3, Loss: 0.32\n",
      "Batch: 40, Epoch: 3, Loss: 0.28\n",
      "Batch: 50, Epoch: 3, Loss: 0.43\n",
      "Epoch [3/5], Avg_Loss: 0.3703\n",
      "*** Validation Accuracy: 75.13% ***\n",
      "Batch: 10, Epoch: 4, Loss: 0.24\n",
      "Batch: 20, Epoch: 4, Loss: 0.33\n",
      "Batch: 30, Epoch: 4, Loss: 0.40\n",
      "Batch: 40, Epoch: 4, Loss: 0.11\n",
      "Batch: 50, Epoch: 4, Loss: 0.22\n",
      "Epoch [4/5], Avg_Loss: 0.2606\n",
      "*** Validation Accuracy: 78.26% ***\n",
      "Batch: 10, Epoch: 5, Loss: 0.11\n",
      "Batch: 20, Epoch: 5, Loss: 0.07\n",
      "Batch: 30, Epoch: 5, Loss: 0.22\n",
      "Batch: 40, Epoch: 5, Loss: 0.31\n",
      "Batch: 50, Epoch: 5, Loss: 0.20\n",
      "Epoch [5/5], Avg_Loss: 0.2026\n",
      "*** Validation Accuracy: 78.09% ***\n",
      "Execution time: 1790.5037641525269 seconds\n"
     ]
    }
   ],
   "source": [
    "model = CarClassifierResNet(num_classes=num_classes, dropout_rate=0.2).to(device)\n",
    "criterion = nn.CrossEntropyLoss()\n",
    "optimizer = optim.Adam(filter(lambda p: p.requires_grad, model.parameters()), lr=0.005)\n",
    "\n",
    "labels, predictions = train_model(model, criterion, optimizer, epochs=5)"
   ]
  },
  {
   "cell_type": "code",
   "execution_count": 33,
   "id": "5cae1073",
   "metadata": {},
   "outputs": [
    {
     "name": "stdout",
     "output_type": "stream",
     "text": [
      "              precision    recall  f1-score   support\n",
      "\n",
      "           0       0.91      0.86      0.88       125\n",
      "           1       0.81      0.73      0.77       111\n",
      "           2       0.78      0.92      0.84       107\n",
      "           3       0.63      0.91      0.74        77\n",
      "           4       0.87      0.40      0.55        83\n",
      "           5       0.73      0.83      0.78        72\n",
      "\n",
      "    accuracy                           0.78       575\n",
      "   macro avg       0.79      0.77      0.76       575\n",
      "weighted avg       0.80      0.78      0.77       575\n",
      "\n"
     ]
    }
   ],
   "source": [
    "from sklearn.metrics import classification_report\n",
    "\n",
    "report = classification_report(labels, predictions)\n",
    "print(report)"
   ]
  },
  {
   "cell_type": "code",
   "execution_count": 34,
   "id": "323e1dde",
   "metadata": {},
   "outputs": [
    {
     "data": {
      "image/png": "[encoded data removed]",
      "text/plain": [
       "<Figure size 640x480 with 2 Axes>"
      ]
     },
     "metadata": {},
     "output_type": "display_data"
    }
   ],
   "source": [
    "import numpy as np\n",
    "from sklearn.metrics import confusion_matrix, ConfusionMatrixDisplay\n",
    "from matplotlib import pyplot as plt\n",
    "\n",
    "conf_matrix = confusion_matrix(labels, predictions, labels=np.arange(num_classes))\n",
    "disp = ConfusionMatrixDisplay(confusion_matrix=conf_matrix, display_labels=class_names)\n",
    "disp.plot(cmap=plt.cm.Blues, xticks_rotation=45)\n",
    "plt.title(\"Confusion Matrix for Vehicle Damage Classification\")\n",
    "plt.show()"
   ]
  },
  {
   "cell_type": "code",
   "execution_count": 35,
   "id": "137e482d",
   "metadata": {},
   "outputs": [],
   "source": [
    "torch.save(model.state_dict(), 'saved_model.pth')"
   ]
  }
 ],
 "metadata": {
  "kernelspec": {
   "display_name": "Python 3",
   "language": "python",
   "name": "python3"
  },
  "language_info": {
   "codemirror_mode": {
    "name": "ipython",
    "version": 3
   },
   "file_extension": ".py",
   "mimetype": "text/x-python",
   "name": "python",
   "nbconvert_exporter": "python",
   "pygments_lexer": "ipython3",
   "version": "3.10.11"
  }
 },
 "nbformat": 4,
 "nbformat_minor": 5
}
